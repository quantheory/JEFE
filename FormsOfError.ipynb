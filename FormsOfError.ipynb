{
 "cells": [
  {
   "cell_type": "code",
   "execution_count": null,
   "id": "e2aab872-af01-4da3-b675-cab5548a559a",
   "metadata": {},
   "outputs": [],
   "source": [
    "import os.path\n",
    "\n",
    "import numpy as np\n",
    "import numpy.linalg as la\n",
    "import matplotlib\n",
    "import matplotlib.pyplot as plt\n",
    "import netCDF4 as nc4\n",
    "\n",
    "import bin_model as bm"
   ]
  },
  {
   "cell_type": "markdown",
   "id": "a5d5501b-f7a2-4973-94b3-59c31ebff61a",
   "metadata": {},
   "source": [
    "# Absolute, Relative, and Mixed Errors"
   ]
  },
  {
   "cell_type": "code",
   "execution_count": null,
   "id": "88eebbfd-44cb-4a8b-84d4-a3cf23dad6d6",
   "metadata": {},
   "outputs": [],
   "source": [
    "KERNEL_FILE_NAME = \"kernels/Hall_ScottChen_kernel_nb336.nc\"\n",
    "LOGT_FILE_NAME_TEMPLATE = \\\n",
    "    os.path.join(\"sensitivity_experiments\",\n",
    "                 \"experiment_d{}nu07_c0-3_r0-3_logt.nc\")\n",
    "IDT_FILE_NAME_TEMPLATE = \\\n",
    "    os.path.join(\"sensitivity_experiments\",\n",
    "                 \"experiment_d{}nu07_c0-3_r0-3_idt.nc\")\n",
    "QTLT_FILE_NAME_TEMPLATE = \\\n",
    "    os.path.join(\"sensitivity_experiments\",\n",
    "                 \"experiment_d{}nu07_c0-3_r0-3_qtlt.nc\")"
   ]
  },
  {
   "cell_type": "code",
   "execution_count": null,
   "id": "1772dc71-7f9c-4547-a591-fc74624e61cb",
   "metadata": {},
   "outputs": [],
   "source": [
    "with nc4.Dataset(KERNEL_FILE_NAME, \"r\") as nc:\n",
    "    netcdf_file = bm.NetcdfFile(nc)\n",
    "    _, kernel, _, ktens = netcdf_file.read_cgk()"
   ]
  },
  {
   "cell_type": "code",
   "execution_count": null,
   "id": "79c4cfd8-b369-42a0-9738-a0eb9794ccfc",
   "metadata": {},
   "outputs": [],
   "source": [
    "first_file_name = LOGT_FILE_NAME_TEMPLATE.format(15)\n",
    "with nc4.Dataset(first_file_name, \"r\") as nc:\n",
    "    netcdf_file = bm.NetcdfFile(nc)\n",
    "    exp = netcdf_file.read_full_experiment([ktens])\n",
    "nt = exp.num_time_steps"
   ]
  },
  {
   "cell_type": "code",
   "execution_count": null,
   "id": "87e9e97d-9299-4e0f-94e7-dc6865f8bb82",
   "metadata": {},
   "outputs": [],
   "source": [
    "wv_m6 = exp.mass_grid.moment_weight_vector(6)"
   ]
  },
  {
   "cell_type": "code",
   "execution_count": null,
   "id": "922f6ee0-0a19-4959-8b96-7bdd9fdbcac4",
   "metadata": {},
   "outputs": [],
   "source": [
    "const = exp.constants\n",
    "m6_scale = const.mass_conc_scale * const.std_diameter**6 / const.std_mass"
   ]
  },
  {
   "cell_type": "code",
   "execution_count": null,
   "id": "5f5b7fe2-eb9b-46a8-b626-34a75b3e62ed",
   "metadata": {},
   "outputs": [],
   "source": [
    "DS = np.array([15 + 3*i for i in range(6)])"
   ]
  },
  {
   "cell_type": "code",
   "execution_count": null,
   "id": "9462c1f7-5309-4f15-b554-73dce4b5f60d",
   "metadata": {},
   "outputs": [],
   "source": [
    "nds = len(DS)"
   ]
  },
  {
   "cell_type": "code",
   "execution_count": null,
   "id": "c36f99a1-48d3-42ca-aa1e-a86758d337fd",
   "metadata": {},
   "outputs": [],
   "source": [
    "m6s_logt = np.zeros((nds, nt))\n",
    "m6_covs_logt = np.zeros((nds, nt))\n",
    "for i in range(nds):\n",
    "    exp_file_name = LOGT_FILE_NAME_TEMPLATE.format(DS[i])\n",
    "    if not os.path.isfile(exp_file_name):\n",
    "        m6s_logt[i,:] = np.nan\n",
    "        m6_covs_logt[i,:] = np.nan\n",
    "        continue\n",
    "    with nc4.Dataset(exp_file_name, \"r\") as nc:\n",
    "        netcdf_file = bm.NetcdfFile(nc)\n",
    "        exp = netcdf_file.read_full_experiment([ktens])\n",
    "    m6s_logt[i,:], m6_covs_logt[i,:] = exp.get_moments_and_covariances(wv_m6)"
   ]
  },
  {
   "cell_type": "code",
   "execution_count": null,
   "id": "b171d6d7-1891-4d64-8834-567c9451c387",
   "metadata": {},
   "outputs": [],
   "source": [
    "m6_logt_worsts = np.sqrt(m6_covs_logt).max(axis=1) * m6_scale"
   ]
  },
  {
   "cell_type": "code",
   "execution_count": null,
   "id": "07c15b3a-1310-4ff9-b340-d764292582a5",
   "metadata": {},
   "outputs": [],
   "source": [
    "m6s_idt = np.zeros((nds, nt))\n",
    "m6_covs_idt = np.zeros((nds, nt))\n",
    "for i in range(nds):\n",
    "    exp_file_name = IDT_FILE_NAME_TEMPLATE.format(DS[i])\n",
    "    if not os.path.isfile(exp_file_name):\n",
    "        m6s_idt[i,:] = np.nan\n",
    "        m6_covs_idt[i,:] = np.nan\n",
    "        continue\n",
    "    with nc4.Dataset(exp_file_name, \"r\") as nc:\n",
    "        netcdf_file = bm.NetcdfFile(nc)\n",
    "        exp = netcdf_file.read_full_experiment([ktens])\n",
    "    m6s_idt[i,:], m6_covs_idt[i,:] = exp.get_moments_and_covariances(wv_m6)"
   ]
  },
  {
   "cell_type": "code",
   "execution_count": null,
   "id": "6efe336a-6873-4fa9-8df2-f593d2f53807",
   "metadata": {},
   "outputs": [],
   "source": [
    "m6_idt_worsts = np.sqrt(m6_covs_idt).max(axis=1) * m6_scale"
   ]
  },
  {
   "cell_type": "code",
   "execution_count": null,
   "id": "9e305598-a13e-4e8d-bf69-ec5c8e7f46a3",
   "metadata": {},
   "outputs": [],
   "source": [
    "m6s_qtlt = np.zeros((nds, nt))\n",
    "m6_covs_qtlt = np.zeros((nds, nt))\n",
    "for i in range(nds):\n",
    "    exp_file_name = QTLT_FILE_NAME_TEMPLATE.format(DS[i])\n",
    "    if not os.path.isfile(exp_file_name):\n",
    "        m6s_qtlt[i,:] = np.nan\n",
    "        m6_covs_qtlt[i,:] = np.nan\n",
    "        continue\n",
    "    with nc4.Dataset(exp_file_name, \"r\") as nc:\n",
    "        netcdf_file = bm.NetcdfFile(nc)\n",
    "        exp = netcdf_file.read_full_experiment([ktens])\n",
    "    m6s_qtlt[i,:], m6_covs_qtlt[i,:] = exp.get_moments_and_covariances(wv_m6)"
   ]
  },
  {
   "cell_type": "code",
   "execution_count": null,
   "id": "516e6e21-6ea2-4df7-b0a8-21c69f815281",
   "metadata": {},
   "outputs": [],
   "source": [
    "m6_qtlt_worsts = np.sqrt(m6_covs_qtlt).max(axis=1) * m6_scale"
   ]
  },
  {
   "cell_type": "code",
   "execution_count": null,
   "id": "3de4a569-7638-43dd-85ee-6b03dbf1185f",
   "metadata": {},
   "outputs": [],
   "source": [
    "plt.semilogy(DS, m6_idt_worsts)\n",
    "plt.semilogy(DS, m6_logt_worsts)\n",
    "plt.semilogy(DS, m6_qtlt_worsts)"
   ]
  },
  {
   "cell_type": "code",
   "execution_count": null,
   "id": "434f8e75-15b7-48bb-b053-f815468344d1",
   "metadata": {},
   "outputs": [],
   "source": [
    "plt.plot(exp.times, np.sqrt(m6_covs_idt[1,:]) * m6_scale)\n",
    "plt.plot(exp.times, np.sqrt(m6_covs_logt[1,:]) * m6_scale)\n",
    "plt.plot(exp.times, np.sqrt(m6_covs_qtlt[1,:]) * m6_scale)"
   ]
  },
  {
   "cell_type": "code",
   "execution_count": null,
   "id": "5b9592ab-c05a-473e-ba98-6f6a4fa69a32",
   "metadata": {},
   "outputs": [],
   "source": [
    "plt.plot(exp.times, m6_scale * m6s_qtlt[1,:])"
   ]
  },
  {
   "cell_type": "code",
   "execution_count": null,
   "id": "0cd17004-cdd3-45aa-b84e-4dd43bba8e3f",
   "metadata": {},
   "outputs": [],
   "source": []
  }
 ],
 "metadata": {
  "kernelspec": {
   "display_name": "Python 3 (ipykernel)",
   "language": "python",
   "name": "python3"
  },
  "language_info": {
   "codemirror_mode": {
    "name": "ipython",
    "version": 3
   },
   "file_extension": ".py",
   "mimetype": "text/x-python",
   "name": "python",
   "nbconvert_exporter": "python",
   "pygments_lexer": "ipython3",
   "version": "3.9.5"
  }
 },
 "nbformat": 4,
 "nbformat_minor": 5
}
