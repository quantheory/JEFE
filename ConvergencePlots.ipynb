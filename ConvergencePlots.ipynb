{
 "cells": [
  {
   "cell_type": "code",
   "execution_count": null,
   "id": "8347aeac-1de6-4244-a3db-25c0f0c6c712",
   "metadata": {},
   "outputs": [],
   "source": [
    "import os.path\n",
    "\n",
    "import numpy as np\n",
    "import numpy.linalg as la\n",
    "import matplotlib\n",
    "import matplotlib.pyplot as plt\n",
    "import netCDF4 as nc4\n",
    "\n",
    "import bin_model as bm"
   ]
  },
  {
   "cell_type": "markdown",
   "id": "264b35ac-1d3f-40a6-82a5-35a755c406f7",
   "metadata": {},
   "source": [
    "# Time convergence plots"
   ]
  },
  {
   "cell_type": "code",
   "execution_count": null,
   "id": "3627ecc4-3a05-4e34-b601-431f8da452fe",
   "metadata": {},
   "outputs": [],
   "source": [
    "KERNEL_FILE_NAME = \"kernels/Hall_ScottChen_kernel_nb336.nc\"\n",
    "EXP_FILE_NAME_TEMPLATE = \\\n",
    "    os.path.join(\"convergence_experiments\",\n",
    "                 \"time_convergence_experiment_dtexp{}.nc\")"
   ]
  },
  {
   "cell_type": "code",
   "execution_count": null,
   "id": "6d654bb7-5209-4e88-96ea-be93a27baeb1",
   "metadata": {},
   "outputs": [],
   "source": [
    "END_TIME = 3600\n",
    "\n",
    "NDT = 10\n",
    "dtexps = list(range(NDT))"
   ]
  },
  {
   "cell_type": "code",
   "execution_count": null,
   "id": "cde88494-4cf1-4d1e-88d4-dd31b88b9510",
   "metadata": {},
   "outputs": [],
   "source": [
    "#with nc4.Dataset(KERNEL_FILE_NAME, \"r\") as nc:\n",
    "#    netcdf_file = bm.NetcdfFile(nc)\n",
    "#    _, kernel, _, ktens = netcdf_file.read_cgk()"
   ]
  },
  {
   "cell_type": "code",
   "execution_count": null,
   "id": "ae55ca53-3437-4000-b612-4055b916b650",
   "metadata": {},
   "outputs": [],
   "source": [
    "reference_file_name = EXP_FILE_NAME_TEMPLATE.format(dtexps[-1])\n",
    "with nc4.Dataset(reference_file_name, \"r\") as nc:\n",
    "    netcdf_file = bm.NetcdfFile(nc)\n",
    "    exp = netcdf_file.read_full_experiment([]) # don't need ([ktens])"
   ]
  },
  {
   "cell_type": "code",
   "execution_count": null,
   "id": "3154b96b-1ce5-4fad-8a91-cb0d59848af9",
   "metadata": {},
   "outputs": [],
   "source": [
    "def get_dsd_values_for_comparison(exp, dtexp):\n",
    "    nb = exp.mass_grid.num_bins\n",
    "    ncompare = int(END_TIME // 10)\n",
    "    stride = 2**dtexp\n",
    "    output = np.zeros((ncompare, nb))\n",
    "    for i in range(ncompare):\n",
    "        output[i,:] = exp.states[stride*i].dsd()\n",
    "    return output"
   ]
  },
  {
   "cell_type": "code",
   "execution_count": null,
   "id": "4974c051-e678-4c1d-940d-cb7c4b1aaf93",
   "metadata": {},
   "outputs": [],
   "source": [
    "def get_moment_values_for_comparison(n, exp, dtexp):\n",
    "    ncompare = int(END_TIME // 10)\n",
    "    stride = 2**dtexp\n",
    "    output = np.zeros((ncompare,))\n",
    "    for i in range(ncompare):\n",
    "        output[i] = exp.states[stride*i].dsd_moment(n)\n",
    "    return output"
   ]
  },
  {
   "cell_type": "code",
   "execution_count": null,
   "id": "797da3db-4d25-4a55-bab9-f29fda8d7c67",
   "metadata": {},
   "outputs": [],
   "source": [
    "reference_dsd_values = get_dsd_values_for_comparison(exp, dtexps[-1])\n",
    "reference_mom0s = get_moment_values_for_comparison(0, exp, dtexps[-1])\n",
    "reference_mom6s = get_moment_values_for_comparison(6, exp, dtexps[-1])\n",
    "reference_dbzs = 10. * np.log10(reference_mom6s)"
   ]
  },
  {
   "cell_type": "code",
   "execution_count": null,
   "id": "cfa62040-77a0-4e96-a42e-2514618e0748",
   "metadata": {},
   "outputs": [],
   "source": [
    "rmse = np.zeros((NDT-1,))\n",
    "mom0_max_errs = np.zeros((NDT-1,))\n",
    "mom6_max_errs = np.zeros((NDT-1,))\n",
    "dbz_max_errs = np.zeros((NDT-1,))\n",
    "for i in range(NDT-1):\n",
    "    dtexp = dtexps[i]\n",
    "    exp_file_name = EXP_FILE_NAME_TEMPLATE.format(dtexp)\n",
    "    with nc4.Dataset(exp_file_name, \"r\") as nc:\n",
    "        netcdf_file = bm.NetcdfFile(nc)\n",
    "        exp = netcdf_file.read_full_experiment([]) # don't need ([ktens])\n",
    "    dsd_values = get_dsd_values_for_comparison(exp, dtexp)\n",
    "    rmse[i] = la.norm(dsd_values - reference_dsd_values)\n",
    "    mom0s = get_moment_values_for_comparison(0, exp, dtexp)\n",
    "    mom6s = get_moment_values_for_comparison(6, exp, dtexp)\n",
    "    dbzs = 10. * np.log10(mom6s)\n",
    "    mom0_max_errs[i] = np.abs(mom0s - reference_mom0s).max()\n",
    "    mom6_max_errs[i] = np.abs(mom6s - reference_mom6s).max()\n",
    "    dbz_max_errs[i] = np.abs(dbzs - reference_dbzs).max()"
   ]
  },
  {
   "cell_type": "code",
   "execution_count": null,
   "id": "fc674ba4-d00b-4226-8801-4a5356e85b2f",
   "metadata": {},
   "outputs": [],
   "source": [
    "dts = np.array([10. * 2**(-x) for x in dtexps])\n",
    "plt.loglog(dts[:-1], rmse, color='k', marker='o')\n",
    "plt.loglog(dts[-6:-1], dts[-6:-1]**5 * (rmse[-3] / dts[-4]**5),\n",
    "           color='k', linestyle='--')"
   ]
  },
  {
   "cell_type": "code",
   "execution_count": null,
   "id": "7ff0a26a-0560-40da-8685-29d3ef2d1d63",
   "metadata": {},
   "outputs": [],
   "source": [
    "dts = np.array([10. * 2**(-x) for x in dtexps])\n",
    "plt.loglog(dts[:-1], mom0_max_errs, color='k', marker='o')\n",
    "plt.loglog(dts[-6:-1], dts[-6:-1]**5 * (mom0_max_errs[-3] / dts[-4]**5),\n",
    "           color='k', linestyle='--')"
   ]
  },
  {
   "cell_type": "code",
   "execution_count": null,
   "id": "cdc06c69-102a-44d6-adff-2125ea190905",
   "metadata": {},
   "outputs": [],
   "source": [
    "dts = np.array([10. * 2**(-x) for x in dtexps])\n",
    "plt.loglog(dts[:-1], mom6_max_errs, color='k', marker='o')\n",
    "plt.loglog(dts[-6:-1], dts[-6:-1]**5 * (mom6_max_errs[-3] / dts[-4]**5),\n",
    "           color='k', linestyle='--')"
   ]
  },
  {
   "cell_type": "code",
   "execution_count": null,
   "id": "505d137d-506b-40a1-b754-9cd298bfc1b2",
   "metadata": {},
   "outputs": [],
   "source": [
    "dts = np.array([10. * 2**(-x) for x in dtexps])\n",
    "plt.loglog(dts[:-1], dbz_max_errs, color='k', marker='o')\n",
    "plt.loglog(dts[-6:-1], dts[-6:-1]**5 * (dbz_max_errs[-3] / dts[-4]**5),\n",
    "           color='k', linestyle='--')"
   ]
  },
  {
   "cell_type": "markdown",
   "id": "40909473-fbfe-430f-8794-d4c32369d914",
   "metadata": {},
   "source": [
    "# Mass convergence plots"
   ]
  },
  {
   "cell_type": "code",
   "execution_count": null,
   "id": "182598e8-589a-4892-ae29-475040b020bc",
   "metadata": {},
   "outputs": [],
   "source": [
    "KERNEL_FILE_NAME_TEMPLATE = \\\n",
    "    os.path.join(\"kernels\", \"Hall_ScottChen_kernel_nb{}.nc\")\n",
    "\n",
    "EXP_FILE_NAME_TEMPLATE = \\\n",
    "    os.path.join(\"convergence_experiments\",\n",
    "                 \"mass_convergence_experiment_nb{}.nc\")\n",
    "\n",
    "NNB = 7\n",
    "\n",
    "nbs = np.array([42 * 2**i for i in range(NNB)])"
   ]
  },
  {
   "cell_type": "code",
   "execution_count": null,
   "id": "323aa627-148f-4d14-85cd-dab16d03df1c",
   "metadata": {},
   "outputs": [],
   "source": [
    "#reference_kernel_file_name = KERNEL_FILE_NAME_TEMPLATE.format(nbs[-1])\n",
    "#with nc4.Dataset(reference_kernel_file_name, \"r\") as nc:\n",
    "#    netcdf_file = bm.NetcdfFile(nc)\n",
    "#    _, kernel, _, ktens = netcdf_file.read_cgk()"
   ]
  },
  {
   "cell_type": "code",
   "execution_count": null,
   "id": "dbc703c9-060c-4ec2-ac63-f94059902c67",
   "metadata": {},
   "outputs": [],
   "source": [
    "reference_exp_file_name = EXP_FILE_NAME_TEMPLATE.format(nbs[-1])\n",
    "with nc4.Dataset(reference_exp_file_name, \"r\") as nc:\n",
    "    netcdf_file = bm.NetcdfFile(nc)\n",
    "    exp = netcdf_file.read_full_experiment([])# don't need ([ktens])"
   ]
  },
  {
   "cell_type": "code",
   "execution_count": null,
   "id": "f9fffd1d-fffc-401a-8d43-c12a061a34d5",
   "metadata": {},
   "outputs": [],
   "source": [
    "def get_dsd_values_for_comparison(exp, lowest_nb):\n",
    "    nt = exp.num_time_steps\n",
    "    nb = exp.mass_grid.num_bins\n",
    "    ncompare = lowest_nb\n",
    "    stride = int(nb // lowest_nb)\n",
    "    output = np.zeros((nt, ncompare))\n",
    "    for i in range(nt):\n",
    "        output[i,:] = exp.states[i].dsd()[::stride]\n",
    "    return output"
   ]
  },
  {
   "cell_type": "code",
   "execution_count": null,
   "id": "9d18c163-a79b-4338-a8c0-03922de5ddd8",
   "metadata": {},
   "outputs": [],
   "source": [
    "def get_moment_values_for_comparison(n, exp):\n",
    "    nt = exp.num_time_steps\n",
    "    output = np.zeros((nt,))\n",
    "    for i in range(nt):\n",
    "        output[i] = exp.states[i].dsd_moment(n)\n",
    "    return output"
   ]
  },
  {
   "cell_type": "code",
   "execution_count": null,
   "id": "be344126-b879-474f-b862-9881e8bbf34f",
   "metadata": {},
   "outputs": [],
   "source": [
    "reference_dsd_values = get_dsd_values_for_comparison(exp, nbs[0])\n",
    "reference_mom0s = get_moment_values_for_comparison(0, exp)\n",
    "reference_mom6s = get_moment_values_for_comparison(6, exp)\n",
    "reference_dbzs = 10. * np.log10(reference_mom6s)"
   ]
  },
  {
   "cell_type": "code",
   "execution_count": null,
   "id": "502564fc-01e5-47e2-9fb1-080629426ed3",
   "metadata": {},
   "outputs": [],
   "source": [
    "rmse = np.zeros((NNB-1,))\n",
    "mom0_max_errs = np.zeros((NNB-1,))\n",
    "mom6_max_errs = np.zeros((NNB-1,))\n",
    "dbz_max_errs = np.zeros((NNB-1,))\n",
    "for i in range(NNB-1):\n",
    "    nb = nbs[i]\n",
    "    kernel_file_name = KERNEL_FILE_NAME_TEMPLATE.format(nb)\n",
    "    #with nc4.Dataset(kernel_file_name, \"r\") as nc:\n",
    "    #    netcdf_file = bm.NetcdfFile(nc)\n",
    "    #    _, kernel, _, ktens = netcdf_file.read_cgk()\n",
    "    exp_file_name = EXP_FILE_NAME_TEMPLATE.format(nb)\n",
    "    with nc4.Dataset(exp_file_name, \"r\") as nc:\n",
    "        netcdf_file = bm.NetcdfFile(nc)\n",
    "        exp = netcdf_file.read_full_experiment([]) # don't need ([ktens])\n",
    "    dsd_values = get_dsd_values_for_comparison(exp, nbs[0])\n",
    "    rmse[i] = la.norm(dsd_values - reference_dsd_values)\n",
    "    mom0s = get_moment_values_for_comparison(0, exp)\n",
    "    mom6s = get_moment_values_for_comparison(6, exp)\n",
    "    dbzs = 10. * np.log10(mom6s)\n",
    "    mom0_max_errs[i] = np.abs(mom0s - reference_mom0s).max()\n",
    "    mom6_max_errs[i] = np.abs(mom6s - reference_mom6s).max()\n",
    "    dbz_max_errs[i] = np.abs(dbzs - reference_dbzs).max()"
   ]
  },
  {
   "cell_type": "code",
   "execution_count": null,
   "id": "96897d7e-fce0-4f2e-bf74-980f0f2fe3d3",
   "metadata": {},
   "outputs": [],
   "source": [
    "plt.loglog(nbs[:-1], rmse, color='k', marker='o')\n",
    "plt.loglog(nbs[:-1], (1./nbs[:-1]) * (rmse[2] * nbs[2]),\n",
    "           color='k', linestyle='--')"
   ]
  },
  {
   "cell_type": "code",
   "execution_count": null,
   "id": "714335e9-475f-450b-ac2a-3355717ad7ab",
   "metadata": {},
   "outputs": [],
   "source": [
    "plt.loglog(nbs[:-1], mom0_max_errs, color='k', marker='o')\n",
    "plt.loglog(nbs[:-1], (1./nbs[:-1]) * (mom0_max_errs[2] * nbs[2]),\n",
    "           color='k', linestyle='--')"
   ]
  },
  {
   "cell_type": "code",
   "execution_count": null,
   "id": "223113cb-725f-41d3-96ef-599bc129666f",
   "metadata": {},
   "outputs": [],
   "source": [
    "plt.loglog(nbs[:-1], mom6_max_errs, color='k', marker='o')\n",
    "plt.loglog(nbs[:-1], (1./nbs[:-1]) * (mom6_max_errs[2] * nbs[2]),\n",
    "           color='k', linestyle='--')"
   ]
  },
  {
   "cell_type": "code",
   "execution_count": null,
   "id": "f0af5c0a-4b56-4ba6-9d22-a267dfbb9019",
   "metadata": {},
   "outputs": [],
   "source": [
    "plt.loglog(nbs[:-1], dbz_max_errs, color='k', marker='o')\n",
    "plt.loglog(nbs[:-1], (1./nbs[:-1]) * (dbz_max_errs[2] * nbs[2]),\n",
    "           color='k', linestyle='--')"
   ]
  },
  {
   "cell_type": "code",
   "execution_count": null,
   "id": "a392c752-c7e8-4a8a-b1cf-178eab9f330a",
   "metadata": {},
   "outputs": [],
   "source": []
  }
 ],
 "metadata": {
  "kernelspec": {
   "display_name": "Python 3 (ipykernel)",
   "language": "python",
   "name": "python3"
  },
  "language_info": {
   "codemirror_mode": {
    "name": "ipython",
    "version": 3
   },
   "file_extension": ".py",
   "mimetype": "text/x-python",
   "name": "python",
   "nbconvert_exporter": "python",
   "pygments_lexer": "ipython3",
   "version": "3.9.5"
  }
 },
 "nbformat": 4,
 "nbformat_minor": 5
}
