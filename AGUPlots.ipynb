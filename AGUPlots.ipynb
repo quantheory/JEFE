{
 "cells": [
  {
   "cell_type": "code",
   "execution_count": null,
   "id": "3a038bf2-a518-4610-91a1-4ebd4fc4ac6b",
   "metadata": {},
   "outputs": [],
   "source": [
    "import os.path\n",
    "from time import perf_counter\n",
    "\n",
    "import numpy as np\n",
    "import scipy.linalg as la\n",
    "import matplotlib\n",
    "import matplotlib.pyplot as plt\n",
    "import netCDF4 as nc4\n",
    "import matplotlib.animation as animation\n",
    "import mpl_toolkits.mplot3d.art3d as art3d\n",
    "\n",
    "import bin_model as bm"
   ]
  },
  {
   "cell_type": "markdown",
   "id": "e128f73a-323b-4c7b-8a4c-d7928519635f",
   "metadata": {},
   "source": [
    "# Bin Model Example and Animation"
   ]
  },
  {
   "cell_type": "code",
   "execution_count": null,
   "id": "3644e127-a309-4237-a4a2-7a73a3f335c6",
   "metadata": {},
   "outputs": [],
   "source": [
    "KERNEL_FILE_NAME = \"kernels/Hall_ScottChen_kernel_nb336.nc\"\n",
    "EXPERIMENT_FILE_NAME = \\\n",
    "    \"convergence_experiments/mass_convergence_experiment_nb336.nc\""
   ]
  },
  {
   "cell_type": "code",
   "execution_count": null,
   "id": "0fa6368e-169a-4df7-b3cd-31c2959cbeda",
   "metadata": {},
   "outputs": [],
   "source": [
    "with nc4.Dataset(KERNEL_FILE_NAME, \"r\") as nc:\n",
    "    netcdf_file = bm.NetcdfFile(nc)\n",
    "    _, kernel, _, ktens = netcdf_file.read_cgk()\n",
    "with nc4.Dataset(EXPERIMENT_FILE_NAME, \"r\") as nc:\n",
    "    netcdf_file = bm.NetcdfFile(nc)\n",
    "    exp = netcdf_file.read_full_experiment([ktens])"
   ]
  },
  {
   "cell_type": "code",
   "execution_count": null,
   "id": "f291a8d9-a73a-42a3-aa82-3e312928cb16",
   "metadata": {},
   "outputs": [],
   "source": [
    "nt = exp.num_time_steps\n",
    "nb = exp.mass_grid.num_bins\n",
    "bb = exp.mass_grid.bin_bounds\n",
    "times = exp.times\n",
    "dsds = np.zeros((nt, nb))\n",
    "for i in range(nt):\n",
    "    dsds[i,:] = exp.states[i].dsd()\n",
    "plt.pcolor(bb, times, np.log10(np.maximum(dsds[1:,:], 1.e-9)), cmap='jet')\n",
    "plt.colorbar()"
   ]
  },
  {
   "cell_type": "code",
   "execution_count": null,
   "id": "602d4aad-55fe-4c70-8662-4130a1675d51",
   "metadata": {},
   "outputs": [],
   "source": [
    "const = exp.constants\n",
    "grid = exp.mass_grid\n",
    "ymin = 0.\n",
    "ymax = 3.\n",
    "fig = plt.figure(figsize=(5, 4))\n",
    "ax = fig.add_subplot(autoscale_on=False,\n",
    "                     xlim=(2. + grid.lx_min/(3.*np.log(10)),\n",
    "                           2. + grid.lx_max/(3.*np.log(10))),\n",
    "                     ylim=(ymin, ymax))\n",
    "ax.set_xlabel(\"$log_{10}(D)$ ($D$ in microns)\")\n",
    "ax.set_ylabel(\"$dm/dlog_{10}(D)$ (g/kg)\")\n",
    "ax.grid()\n",
    "\n",
    "plot_lds = 2. + grid.bin_bounds[:-1] / (3.*np.log(10))\n",
    "line, = ax.plot(plot_lds, exp.states[0].dsd(),\n",
    "                'o-', lw=2)\n",
    "time_template = 'time = %.1fs'\n",
    "time_text = ax.text(0.05, 0.9, '', transform=ax.transAxes)\n",
    "plt.vlines(np.log10(const.rain_d)+6., ymin, ymax, 'k')\n",
    "\n",
    "mass_convert = 1.e3 * (3.*np.log(10))\n",
    "frame_stride = 1\n",
    "def animate(i):\n",
    "    ti = frame_stride * i\n",
    "    thisy = mass_convert * exp.states[ti].dsd()\n",
    "    line.set_data(plot_lds, thisy)\n",
    "    time_text.set_text(time_template % exp.times[ti])\n",
    "    return line, time_text\n",
    "\n",
    "num_steps = exp.num_time_steps\n",
    "num_frames = num_steps // frame_stride\n",
    "ani = animation.FuncAnimation(\n",
    "    fig, animate, num_frames,\n",
    "    interval=6000. / num_frames,\n",
    "    blit=True)\n",
    "ani.save(\"mass_evolution.gif\")\n",
    "plt.show()"
   ]
  },
  {
   "cell_type": "markdown",
   "id": "96c22e91-0101-4001-bc3c-d48c416eede8",
   "metadata": {},
   "source": [
    "# Plots of error over time"
   ]
  },
  {
   "cell_type": "code",
   "execution_count": null,
   "id": "2cedb000-7d83-4d40-b70f-c8dad458733d",
   "metadata": {},
   "outputs": [],
   "source": [
    "KERNEL_FILE_NAME = \"kernels/Hall_ScottChen_kernel_nb168.nc\"\n",
    "with nc4.Dataset(KERNEL_FILE_NAME, \"r\") as nc:\n",
    "    netcdf_file = bm.NetcdfFile(nc)\n",
    "    const, _, grid, ktens = netcdf_file.read_cgk()"
   ]
  },
  {
   "cell_type": "markdown",
   "id": "3d5dd15f-e98d-4ddf-a5f5-6c1f5cc4ef33",
   "metadata": {},
   "source": [
    "## 2-category"
   ]
  },
  {
   "cell_type": "code",
   "execution_count": null,
   "id": "d7f40f9b-4000-45d4-9b03-6dae325b6d5e",
   "metadata": {},
   "outputs": [],
   "source": [
    "C0_3R0_3_80MICRON_FILE = os.path.join(\n",
    "    \"sensitivity_experiments\", \"experiment_aguset_c0-3r0-3_80micron.nc\")\n",
    "with nc4.Dataset(C0_3R0_3_80MICRON_FILE, \"r\") as nc:\n",
    "    netcdf_file = bm.NetcdfFile(nc)\n",
    "    exp_c0_3r0_3_80micron = netcdf_file.read_full_experiment([ktens])\n",
    "C0_3R0_3_50MICRON_FILE = os.path.join(\n",
    "    \"sensitivity_experiments\", \"experiment_aguset_c0-3r0-3_50micron.nc\")\n",
    "with nc4.Dataset(C0_3R0_3_50MICRON_FILE, \"r\") as nc:\n",
    "    netcdf_file = bm.NetcdfFile(nc)\n",
    "    exp_c0_3r0_3_50micron = netcdf_file.read_full_experiment([ktens])\n",
    "C0_3_6R0_3_80MICRON_FILE = os.path.join(\n",
    "    \"sensitivity_experiments\", \"experiment_aguset_c0-3-6r0-3_80micron.nc\")\n",
    "with nc4.Dataset(C0_3_6R0_3_80MICRON_FILE, \"r\") as nc:\n",
    "    netcdf_file = bm.NetcdfFile(nc)\n",
    "    exp_c0_3_6r0_3_80micron = netcdf_file.read_full_experiment([ktens])\n",
    "C0_3_6R0_3_50MICRON_FILE = os.path.join(\n",
    "    \"sensitivity_experiments\", \"experiment_aguset_c0-3-6r0-3_50micron.nc\")\n",
    "with nc4.Dataset(C0_3_6R0_3_50MICRON_FILE, \"r\") as nc:\n",
    "    netcdf_file = bm.NetcdfFile(nc)\n",
    "    exp_c0_3_6r0_3_50micron = netcdf_file.read_full_experiment([ktens])\n",
    "C0_3_6R0_3_6_80MICRON_FILE = os.path.join(\n",
    "    \"sensitivity_experiments\", \"experiment_aguset_c0-3-6r0-3-6_80micron.nc\")\n",
    "with nc4.Dataset(C0_3_6R0_3_6_80MICRON_FILE, \"r\") as nc:\n",
    "    netcdf_file = bm.NetcdfFile(nc)\n",
    "    exp_c0_3_6r0_3_6_80micron = netcdf_file.read_full_experiment([ktens])\n",
    "C0_3_6R0_3_6_50MICRON_FILE = os.path.join(\n",
    "    \"sensitivity_experiments\", \"experiment_aguset_c0-3-6r0-3-6_50micron.nc\")\n",
    "with nc4.Dataset(C0_3_6R0_3_6_50MICRON_FILE, \"r\") as nc:\n",
    "    netcdf_file = bm.NetcdfFile(nc)\n",
    "    exp_c0_3_6r0_3_6_50micron = netcdf_file.read_full_experiment([ktens])"
   ]
  },
  {
   "cell_type": "code",
   "execution_count": null,
   "id": "4dd14a33-80b8-4df4-b17d-ef046efcf020",
   "metadata": {},
   "outputs": [],
   "source": [
    "t_eval = exp_c0_3r0_3_80micron.times"
   ]
  },
  {
   "cell_type": "code",
   "execution_count": null,
   "id": "3fdd3ec2-eb87-437f-836d-c2faf49f339c",
   "metadata": {},
   "outputs": [],
   "source": [
    "wvs = np.zeros((3, grid.num_bins))\n",
    "wvs[0,:] = grid.moment_weight_vector(0)\n",
    "wvs[1,:] = grid.moment_weight_vector(3, cloud_only=True)\n",
    "wvs[2,:] = grid.moment_weight_vector(6)\n",
    "wvs_50micron = np.zeros((3, exp_c0_3r0_3_50micron.mass_grid.num_bins))\n",
    "wvs_50micron[0,:] = exp_c0_3r0_3_50micron.mass_grid.moment_weight_vector(0)\n",
    "wvs_50micron[1,:] = exp_c0_3r0_3_50micron.mass_grid.moment_weight_vector(\n",
    "    3, cloud_only=True)\n",
    "wvs_50micron[2,:] = exp_c0_3r0_3_50micron.mass_grid.moment_weight_vector(6)"
   ]
  },
  {
   "cell_type": "code",
   "execution_count": null,
   "id": "c2b2fbb1-dbe1-41f0-a8ee-72f944fc7b16",
   "metadata": {},
   "outputs": [],
   "source": [
    "moms_c0_3r0_3_80micron, mom_covs_c0_3r0_3_80micron = \\\n",
    "    exp_c0_3r0_3_80micron.get_moments_and_covariances(wvs)\n",
    "moms_c0_3r0_3_50micron, mom_covs_c0_3r0_3_50micron = \\\n",
    "    exp_c0_3r0_3_50micron.get_moments_and_covariances(wvs_50micron)\n",
    "moms_c0_3_6r0_3_80micron, mom_covs_c0_3_6r0_3_80micron = \\\n",
    "    exp_c0_3_6r0_3_80micron.get_moments_and_covariances(wvs)\n",
    "moms_c0_3_6r0_3_50micron, mom_covs_c0_3_6r0_3_50micron = \\\n",
    "    exp_c0_3_6r0_3_50micron.get_moments_and_covariances(wvs_50micron)\n",
    "moms_c0_3_6r0_3_6_80micron, mom_covs_c0_3_6r0_3_6_80micron = \\\n",
    "    exp_c0_3_6r0_3_6_80micron.get_moments_and_covariances(wvs)\n",
    "moms_c0_3_6r0_3_6_50micron, mom_covs_c0_3_6r0_3_6_50micron = \\\n",
    "    exp_c0_3_6r0_3_6_50micron.get_moments_and_covariances(wvs_50micron)"
   ]
  },
  {
   "cell_type": "code",
   "execution_count": null,
   "id": "d6d8e3d4-f78b-4213-913c-2db997468be4",
   "metadata": {},
   "outputs": [],
   "source": [
    "U0_3_6_9_FILE = os.path.join(\n",
    "    \"sensitivity_experiments\", \"experiment_aguset_u0-3-6-9_no3err.nc\")\n",
    "with nc4.Dataset(U0_3_6_9_FILE, \"r\") as nc:\n",
    "    netcdf_file = bm.NetcdfFile(nc)\n",
    "    exp_u0_3_6_9 = netcdf_file.read_full_experiment([ktens])\n",
    "U0_3_4_5_FILE = os.path.join(\n",
    "    \"sensitivity_experiments\", \"experiment_aguset_u0-3-4-5_no3err.nc\")\n",
    "with nc4.Dataset(U0_3_4_5_FILE, \"r\") as nc:\n",
    "    netcdf_file = bm.NetcdfFile(nc)\n",
    "    exp_u0_3_4_5 = netcdf_file.read_full_experiment([ktens])\n",
    "U0_3_6_9_12_FILE = os.path.join(\n",
    "    \"sensitivity_experiments\", \"experiment_aguset_u0-3-6-9-12.nc\")\n",
    "with nc4.Dataset(U0_3_6_9_12_FILE, \"r\") as nc:\n",
    "    netcdf_file = bm.NetcdfFile(nc)\n",
    "    exp_u0_3_6_9_12 = netcdf_file.read_full_experiment([ktens])\n",
    "U0_1_2_3_4_FILE = os.path.join(\n",
    "    \"sensitivity_experiments\", \"experiment_aguset_u0-1-2-3-4.nc\")\n",
    "with nc4.Dataset(U0_1_2_3_4_FILE, \"r\") as nc:\n",
    "    netcdf_file = bm.NetcdfFile(nc)\n",
    "    exp_u0_1_2_3_4 = netcdf_file.read_full_experiment([ktens])"
   ]
  },
  {
   "cell_type": "code",
   "execution_count": null,
   "id": "26c4ff6c-65cc-426f-a0a6-71bc02779896",
   "metadata": {},
   "outputs": [],
   "source": [
    "moms_u0_3_6_9, mom_covs_u0_3_6_9 = \\\n",
    "    exp_u0_3_6_9.get_moments_and_covariances(wvs)\n",
    "moms_u0_3_4_5, mom_covs_u0_3_4_5 = \\\n",
    "    exp_u0_3_4_5.get_moments_and_covariances(wvs)\n",
    "moms_u0_3_6_9_12, mom_covs_u0_3_6_9_12 = \\\n",
    "    exp_u0_3_6_9_12.get_moments_and_covariances(wvs)\n",
    "moms_u0_1_2_3_4, mom_covs_u0_1_2_3_4 = \\\n",
    "    exp_u0_1_2_3_4.get_moments_and_covariances(wvs)\n",
    "moms_u0_3_6_9_50micron, mom_covs_u0_3_6_9_50micron = \\\n",
    "    exp_u0_3_6_9.get_moments_and_covariances(wvs_50micron)\n",
    "moms_u0_3_4_5_50micron, mom_covs_u0_3_4_5_50micron = \\\n",
    "    exp_u0_3_4_5.get_moments_and_covariances(wvs_50micron)"
   ]
  },
  {
   "cell_type": "code",
   "execution_count": null,
   "id": "1379a1aa-63a6-4f91-911c-09a2260afbb1",
   "metadata": {},
   "outputs": [],
   "source": [
    "fig = plt.figure(figsize=(7, 4))\n",
    "# rho_air is 1.2, 1.e-6 converts from m^-3 to cm^-3\n",
    "m0_scale = 1.2e-6 * const.mass_conc_scale / const.std_mass\n",
    "plt.plot(t_eval, m0_scale * moms_c0_3r0_3_80micron[:,0],\n",
    "         'k', label='Total M0 ($cm^{-3}$)')\n",
    "plt.plot(t_eval, m0_scale * np.sqrt(mom_covs_c0_3r0_3_80micron[:,0,0]),\n",
    "         color='b', label='C0-3R0-3, $80\\mu m$')\n",
    "plt.plot(t_eval, m0_scale * np.sqrt(mom_covs_c0_3r0_3_50micron[:,0,0]),\n",
    "         color='b', linestyle='--', label='C0-3R0-3, $50\\mu m$')\n",
    "plt.plot(t_eval, m0_scale * np.sqrt(mom_covs_c0_3_6r0_3_80micron[:,0,0]),\n",
    "         color='orange', label='C0-3-6R0-3, $80\\mu m$')\n",
    "plt.plot(t_eval, m0_scale * np.sqrt(mom_covs_c0_3_6r0_3_50micron[:,0,0]),\n",
    "         color='orange', linestyle='--', label='C0-3-6R0-3, $50\\mu m$')\n",
    "plt.plot(t_eval, m0_scale * np.sqrt(mom_covs_c0_3_6r0_3_6_80micron[:,0,0]),\n",
    "         color='g', label='C0-3-6R0-3-6, $80\\mu m$')\n",
    "plt.plot(t_eval, m0_scale * np.sqrt(mom_covs_c0_3_6r0_3_6_50micron[:,0,0]),\n",
    "         color='g', linestyle='--', label='C0-3-6R0-3-6, $50\\mu m$')\n",
    "plt.plot(t_eval, m0_scale * np.sqrt(mom_covs_u0_3_6_9[:,0,0]),\n",
    "         color='r', label='U0-3-6-9')\n",
    "plt.xlim(0., 3600.)\n",
    "plt.ylim(0., 275.)\n",
    "plt.legend()"
   ]
  },
  {
   "cell_type": "code",
   "execution_count": null,
   "id": "afe52afd-89f8-420c-844c-eb0a6fc6c223",
   "metadata": {},
   "outputs": [],
   "source": [
    "fig = plt.figure(figsize=(7, 4))\n",
    "# 1.e3 converts kg/kg to g/kg\n",
    "mass_scale = 1.e3 * const.mass_conc_scale\n",
    "plt.plot(t_eval, mass_scale * moms_c0_3r0_3_80micron[:,1],\n",
    "         'k', label='Cloud mass, $80\\mu m$')\n",
    "plt.plot(t_eval, mass_scale * moms_c0_3r0_3_50micron[:,1],\n",
    "         'k--', label='Cloud mass, $50\\mu m$')\n",
    "plt.plot(t_eval, mass_scale * np.sqrt(mom_covs_c0_3r0_3_80micron[:,1,1]),\n",
    "         color='b', label='C0-3R0-3, $80\\mu m$')\n",
    "plt.plot(t_eval, mass_scale * np.sqrt(mom_covs_c0_3r0_3_50micron[:,1,1]),\n",
    "         color='b', linestyle='--', label='C0-3R0-3, $50\\mu m$')\n",
    "plt.plot(t_eval, mass_scale * np.sqrt(mom_covs_c0_3_6r0_3_80micron[:,1,1]),\n",
    "         color='orange', label='C0-3-6R0-3, $80\\mu m$')\n",
    "plt.plot(t_eval, mass_scale * np.sqrt(mom_covs_c0_3_6r0_3_50micron[:,1,1]),\n",
    "         color='orange', linestyle='--', label='C0-3-6R0-3, $50\\mu m$')\n",
    "plt.plot(t_eval, mass_scale * np.sqrt(mom_covs_c0_3_6r0_3_6_80micron[:,1,1]),\n",
    "         color='g', label='C0-3-6R0-3-6, $80\\mu m$')\n",
    "plt.plot(t_eval, mass_scale * np.sqrt(mom_covs_c0_3_6r0_3_6_50micron[:,1,1]),\n",
    "         color='g', linestyle='--', label='C0-3-6R0-3-6, $50\\mu m$')\n",
    "plt.plot(t_eval, mass_scale * np.sqrt(mom_covs_u0_3_6_9[:,1,1]),\n",
    "         color='r', label='U0-3-6-9, $80\\mu m$')\n",
    "plt.plot(t_eval, mass_scale * np.sqrt(mom_covs_u0_3_6_9_50micron[:,1,1]),\n",
    "         color='r', linestyle='--', label='U0-3-6-9, $50\\mu m$')\n",
    "plt.xlim(0., 3600.)\n",
    "plt.ylim(0., 1.4)\n",
    "plt.xlabel('Time (s)')\n",
    "plt.ylabel('Cloud mass (g/kg)')\n",
    "plt.legend()"
   ]
  },
  {
   "cell_type": "code",
   "execution_count": null,
   "id": "f1e2208b-ccf1-4393-b48b-2557b1044fe5",
   "metadata": {},
   "outputs": [],
   "source": [
    "fig = plt.figure(figsize=(7, 4))\n",
    "# 1.e3 to get mm^6/cm^3\n",
    "m6_scale = (1.e3 * const.std_diameter)**6 * m0_scale\n",
    "plt.plot(t_eval, m6_scale * moms_c0_3r0_3_80micron[:,2],\n",
    "         'k', label='Total $M_6$')\n",
    "plt.plot(t_eval, m6_scale * np.sqrt(mom_covs_c0_3r0_3_80micron[:,2,2]),\n",
    "         color='b', label='C0-3R0-3, $80\\mu m$')\n",
    "plt.plot(t_eval, m6_scale * np.sqrt(mom_covs_c0_3r0_3_50micron[:,2,2]),\n",
    "         color='b', linestyle='--', label='C0-3R0-3, $50\\mu m$')\n",
    "plt.plot(t_eval, m6_scale * np.sqrt(mom_covs_c0_3_6r0_3_80micron[:,2,2]),\n",
    "         color='orange', label='C0-3-6R0-3, $80\\mu m$')\n",
    "plt.plot(t_eval, m6_scale * np.sqrt(mom_covs_c0_3_6r0_3_50micron[:,2,2]),\n",
    "         color='orange', linestyle='--', label='C0-3-6R0-3, $50\\mu m$')\n",
    "plt.plot(t_eval, m6_scale * np.sqrt(mom_covs_c0_3_6r0_3_6_80micron[:,2,2]),\n",
    "         color='g', label='C0-3-6R0-3-6, $80\\mu m$')\n",
    "plt.plot(t_eval, m6_scale * np.sqrt(mom_covs_c0_3_6r0_3_6_50micron[:,2,2]),\n",
    "         color='g', linestyle='--', label='C0-3-6R0-3-6, $50\\mu m$')\n",
    "plt.plot(t_eval, m6_scale * np.sqrt(mom_covs_u0_3_6_9[:,2,2]),\n",
    "         color='r', label='U0-3-6-9')\n",
    "plt.xlim(0., 3600.)\n",
    "plt.ylim(0., 0.25)\n",
    "plt.xlabel('Time (s)')\n",
    "plt.ylabel('$M_6$ ($mm^6cm^{-3}$)')\n",
    "plt.legend()"
   ]
  },
  {
   "cell_type": "markdown",
   "id": "a2bcd404-ac9d-4ea3-9b6b-06a4446c2a91",
   "metadata": {},
   "source": [
    "## 1-category"
   ]
  },
  {
   "cell_type": "code",
   "execution_count": null,
   "id": "35e63fd5-f525-49e0-bf0b-6f71a967ef67",
   "metadata": {},
   "outputs": [],
   "source": [
    "fig = plt.figure(figsize=(7, 4))\n",
    "# rho_air is 1.2, 1.e-6 converts from m^-3 to cm^-3\n",
    "m0_scale = 1.2e-6 * const.mass_conc_scale / const.std_mass\n",
    "plt.plot(t_eval, m0_scale * moms_c0_3r0_3_80micron[:,0],\n",
    "         'k', label='Total M0 ($cm^{-3}$)')\n",
    "plt.plot(t_eval, m0_scale * np.sqrt(mom_covs_u0_3_6_9[:,0,0]),\n",
    "         color='r', label='U0-3-6-9')\n",
    "plt.plot(t_eval, m0_scale * np.sqrt(mom_covs_u0_3_4_5[:,0,0]),\n",
    "         color='purple', label='U0-3-4-5')\n",
    "plt.plot(t_eval, m0_scale * np.sqrt(mom_covs_u0_3_6_9_12[:,0,0]),\n",
    "         color='brown', label='U0-3-6-9-12')\n",
    "plt.plot(t_eval, m0_scale * np.sqrt(mom_covs_u0_1_2_3_4[:,0,0]),\n",
    "         color='pink', label='U0-1-2-3-4')\n",
    "plt.xlim(0., 3600.)\n",
    "plt.ylim(0., 275.)\n",
    "plt.legend()"
   ]
  },
  {
   "cell_type": "code",
   "execution_count": null,
   "id": "6b7cdc3f-c1f4-47bf-ad54-efb3f4c72358",
   "metadata": {},
   "outputs": [],
   "source": [
    "fig = plt.figure(figsize=(7, 4))\n",
    "# 1.e3 converts kg/kg to g/kg\n",
    "mass_scale = 1.e3 * const.mass_conc_scale\n",
    "plt.plot(t_eval, mass_scale * moms_c0_3r0_3_80micron[:,1],\n",
    "         'k', label='Cloud mass')\n",
    "#plt.plot(t_eval, mass_scale * moms_c0_3r0_3_50micron[:,1],\n",
    "#         'k', linestyle='--', label='Cloud mass')\n",
    "#plt.plot(t_eval, mass_scale * np.sqrt(mom_covs_c0_3r0_3_50micron[:,1,1]),\n",
    "#         color='b', label='C0-3R0-3')\n",
    "#plt.plot(t_eval, mass_scale * np.sqrt(mom_covs_c0_3_6r0_3_80micron[:,1,1]),\n",
    "#         color='orange', label='C0-3-6R0-3')\n",
    "#plt.plot(t_eval, mass_scale * np.sqrt(mom_covs_c0_3_6r0_3_6_80micron[:,1,1]),\n",
    "#         color='g', label='C0-3-6R0-3-6')\n",
    "plt.plot(t_eval, mass_scale * np.sqrt(mom_covs_u0_3_6_9[:,1,1]),\n",
    "         color='r', label='U0-3-6-9')\n",
    "#plt.plot(t_eval, mass_scale * np.sqrt(mom_covs_u0_3_6_9_50micron[:,1,1]),\n",
    "#         color='r', linestyle='--', label='U0-3-6-9')\n",
    "plt.plot(t_eval, mass_scale * np.sqrt(mom_covs_u0_3_4_5[:,1,1]),\n",
    "         color='purple', label='U0-3-4-5')\n",
    "#plt.plot(t_eval, mass_scale * np.sqrt(mom_covs_u0_3_4_5_50micron[:,1,1]),\n",
    "#         color='purple', linestyle='--', label='U0-3-4-5')\n",
    "plt.plot(t_eval, mass_scale * np.sqrt(mom_covs_u0_3_6_9_12[:,1,1]),\n",
    "         color='brown', label='U0-3-6-9-12')\n",
    "plt.plot(t_eval, mass_scale * np.sqrt(mom_covs_u0_1_2_3_4[:,1,1]),\n",
    "         color='pink', label='U0-1-2-3-4')\n",
    "plt.xlim(0., 3600.)\n",
    "plt.ylim(0., 1.4)\n",
    "plt.xlabel('Time (s)')\n",
    "plt.ylabel('Cloud mass (g/kg)')\n",
    "plt.legend()"
   ]
  },
  {
   "cell_type": "code",
   "execution_count": null,
   "id": "457577e7-3145-492c-9ae8-463e6417dc22",
   "metadata": {},
   "outputs": [],
   "source": [
    "fig = plt.figure(figsize=(7, 4))\n",
    "# 1.e3 to get mm^6/cm^3\n",
    "m6_scale = (1.e3 * const.std_diameter)**6 * m0_scale\n",
    "plt.plot(t_eval, m6_scale * moms_c0_3r0_3_80micron[:,2],\n",
    "         'k', label='Total $M_6$')\n",
    "plt.plot(t_eval, m6_scale * np.sqrt(mom_covs_u0_3_6_9[:,2,2]),\n",
    "         color='r', label='U0-3-6-9')\n",
    "plt.plot(t_eval, m6_scale * np.sqrt(mom_covs_u0_3_4_5[:,2,2]),\n",
    "         color='purple', label='U0-3-4-5')\n",
    "plt.plot(t_eval, m6_scale * np.sqrt(mom_covs_u0_3_6_9_12[:,2,2]),\n",
    "         color='brown', label='U0-3-6-9-12')\n",
    "plt.plot(t_eval, m6_scale * np.sqrt(mom_covs_u0_1_2_3_4[:,2,2]),\n",
    "         color='pink', label='U0-1-2-3-4')\n",
    "plt.xlim(0., 3600.)\n",
    "plt.ylim(0., 0.25)\n",
    "plt.xlabel('Time (s)')\n",
    "plt.ylabel('$M_6$ ($mm^6cm^{-3}$)')\n",
    "plt.legend()"
   ]
  },
  {
   "cell_type": "markdown",
   "id": "4a6f1af8-230a-42fd-9be3-c33db77944db",
   "metadata": {},
   "source": [
    "## 1-category zeta uncertainty"
   ]
  },
  {
   "cell_type": "code",
   "execution_count": null,
   "id": "9f32ee40-3220-4aea-9239-feb8893ad4c5",
   "metadata": {},
   "outputs": [],
   "source": [
    "fig = plt.figure(figsize=(7, 4))\n",
    "plt.plot(t_eval, np.sqrt(exp_u0_3_6_9.zeta_cov[:,0,0]),\n",
    "         color='r', label='U0-3-6-9')\n",
    "plt.plot(t_eval, np.sqrt(exp_u0_3_4_5.zeta_cov[:,0,0]),\n",
    "         color='brown', label='U0-3-4-5')\n",
    "plt.ylim(0., 50.*np.sqrt(exp_u0_3_6_9.zeta_cov[1,0,0]))\n",
    "plt.legend()"
   ]
  },
  {
   "cell_type": "code",
   "execution_count": null,
   "id": "96a6220a-4e00-4838-aae0-17fa9ded26c0",
   "metadata": {},
   "outputs": [],
   "source": [
    "fig = plt.figure(figsize=(7, 4))\n",
    "plt.plot(t_eval, np.sqrt(exp_u0_3_6_9.zeta_cov[:,1,1]),\n",
    "         color='r', label='U0-3-6-9')\n",
    "plt.plot(t_eval, np.sqrt(exp_u0_3_4_5.zeta_cov[:,1,1]),\n",
    "         color='brown', label='U0-3-4-5')\n",
    "plt.ylim(0., 50.*np.sqrt(exp_u0_3_6_9.zeta_cov[1,1,1]))\n",
    "plt.legend()"
   ]
  },
  {
   "cell_type": "code",
   "execution_count": null,
   "id": "69769b34-39d1-4027-8d19-3faa76671ba3",
   "metadata": {},
   "outputs": [],
   "source": [
    "fig = plt.figure(figsize=(7, 4))\n",
    "plt.plot(t_eval, np.sqrt(exp_u0_3_6_9.zeta_cov[:,2,2]),\n",
    "         color='r', label='U0-3-6-9')\n",
    "plt.plot(t_eval, np.sqrt(exp_u0_3_4_5.zeta_cov[:,2,2]),\n",
    "         color='brown', label='U0-3-4-5')\n",
    "plt.ylim(0., 50.*np.sqrt(exp_u0_3_6_9.zeta_cov[1,2,2]))\n",
    "plt.legend()"
   ]
  },
  {
   "cell_type": "code",
   "execution_count": null,
   "id": "de39e741-8549-4c10-9cba-3de62de585b0",
   "metadata": {},
   "outputs": [],
   "source": [
    "fig = plt.figure(figsize=(7, 4))\n",
    "plt.plot(t_eval, mass_scale * np.sqrt(exp_u0_3_6_9.zeta_cov[:,3,3]),\n",
    "         color='r', label='U0-3-6-9')\n",
    "plt.plot(t_eval, mass_scale * np.sqrt(exp_u0_3_4_5.zeta_cov[:,3,3]),\n",
    "         color='brown', label='U0-3-4-5')\n",
    "plt.ylim(0., 50.*np.sqrt(exp_u0_3_6_9.zeta_cov[1,3,3]))\n",
    "plt.legend()"
   ]
  },
  {
   "cell_type": "markdown",
   "id": "66229086-99a5-4648-97b6-bdae8a6525ba",
   "metadata": {},
   "source": [
    "## 1-category moment evolution"
   ]
  },
  {
   "cell_type": "code",
   "execution_count": null,
   "id": "f9fca778-04df-4057-9f28-71be9f008711",
   "metadata": {},
   "outputs": [],
   "source": [
    "wvs_test = np.zeros((6, grid.num_bins))\n",
    "wvs_test[0,:] = grid.moment_weight_vector(0)\n",
    "wvs_test[1,:] = grid.moment_weight_vector(3)\n",
    "wvs_test[2,:] = grid.moment_weight_vector(4)\n",
    "wvs_test[3,:] = grid.moment_weight_vector(5)\n",
    "wvs_test[4,:] = grid.moment_weight_vector(6)\n",
    "wvs_test[5,:] = grid.moment_weight_vector(9)"
   ]
  },
  {
   "cell_type": "code",
   "execution_count": null,
   "id": "5adc7bfd-f5e6-44cf-a333-bb810271e839",
   "metadata": {},
   "outputs": [],
   "source": [
    "moms_test, mom_covs_test = \\\n",
    "    exp_u0_3_4_5.get_moments_and_covariances(wvs_test)"
   ]
  },
  {
   "cell_type": "code",
   "execution_count": null,
   "id": "dc69b36d-1fb9-4514-8409-5effca35227f",
   "metadata": {},
   "outputs": [],
   "source": [
    "plt.plot(t_eval, np.log(moms_test[:,0]))"
   ]
  },
  {
   "cell_type": "code",
   "execution_count": null,
   "id": "caffbacf-ac24-42b2-91a4-b530967eb80d",
   "metadata": {},
   "outputs": [],
   "source": [
    "plt.plot(t_eval, np.log(moms_test[:,1]))"
   ]
  },
  {
   "cell_type": "code",
   "execution_count": null,
   "id": "e39ece79-6c60-4b2b-8e1c-423c9622939b",
   "metadata": {},
   "outputs": [],
   "source": [
    "plt.plot(t_eval, np.log(moms_test[:,2]))"
   ]
  },
  {
   "cell_type": "code",
   "execution_count": null,
   "id": "45d5c501-88c2-4af9-b546-42ade0f4adf5",
   "metadata": {},
   "outputs": [],
   "source": [
    "plt.plot(t_eval, np.log(moms_test[:,3]))"
   ]
  },
  {
   "cell_type": "code",
   "execution_count": null,
   "id": "3705094b-0785-49d8-9201-3cacda0397cd",
   "metadata": {},
   "outputs": [],
   "source": [
    "plt.plot(t_eval, np.log(moms_test[:,4]))"
   ]
  },
  {
   "cell_type": "code",
   "execution_count": null,
   "id": "0ef95c2b-c6f4-4320-a204-346d273d5929",
   "metadata": {},
   "outputs": [],
   "source": [
    "plt.plot(t_eval, np.log(moms_test[:,5]))"
   ]
  },
  {
   "cell_type": "markdown",
   "id": "3f027683-27fa-4749-9eb8-39e6045d2c6c",
   "metadata": {},
   "source": [
    "## Two-category \"hard\" case"
   ]
  },
  {
   "cell_type": "code",
   "execution_count": null,
   "id": "9c5809f1-bf14-4cc1-a737-1db9685fa1fe",
   "metadata": {},
   "outputs": [],
   "source": [
    "C0_3R0_3_80MICRON_HARDCASE_FILE = os.path.join(\n",
    "    \"sensitivity_experiments\", \"experiment_aguset_c0-3r0-3_80micron_hardcase.nc\")\n",
    "with nc4.Dataset(C0_3R0_3_80MICRON_HARDCASE_FILE, \"r\") as nc:\n",
    "    netcdf_file = bm.NetcdfFile(nc)\n",
    "    exp_c0_3r0_3_80micron_hardcase = netcdf_file.read_full_experiment([ktens])\n",
    "C0_3_6R0_3_80MICRON_HARDCASE_FILE = os.path.join(\n",
    "    \"sensitivity_experiments\", \"experiment_aguset_c0-3-6r0-3_80micron_hardcase.nc\")\n",
    "with nc4.Dataset(C0_3_6R0_3_80MICRON_HARDCASE_FILE, \"r\") as nc:\n",
    "    netcdf_file = bm.NetcdfFile(nc)\n",
    "    exp_c0_3_6r0_3_80micron_hardcase = netcdf_file.read_full_experiment([ktens])"
   ]
  },
  {
   "cell_type": "code",
   "execution_count": null,
   "id": "6c3abb95-2d32-4538-b325-6ffdc0fa58eb",
   "metadata": {},
   "outputs": [],
   "source": [
    "moms_c0_3r0_3_80micron_hardcase, mom_covs_c0_3r0_3_80micron_hardcase = \\\n",
    "    exp_c0_3r0_3_80micron_hardcase.get_moments_and_covariances(wvs)\n",
    "moms_c0_3_6r0_3_80micron_hardcase, mom_covs_c0_3_6r0_3_80micron_hardcase = \\\n",
    "    exp_c0_3_6r0_3_80micron_hardcase.get_moments_and_covariances(wvs)"
   ]
  },
  {
   "cell_type": "code",
   "execution_count": null,
   "id": "a59d1d3a-c118-4b45-ac85-2790c2062e71",
   "metadata": {},
   "outputs": [],
   "source": [
    "fig = plt.figure(figsize=(7, 4))\n",
    "# rho_air is 1.2, 1.e-6 converts from m^-3 to cm^-3\n",
    "m0_scale = 1.2e-6 * const.mass_conc_scale / const.std_mass\n",
    "plt.plot(t_eval, m0_scale * moms_c0_3r0_3_80micron_hardcase[:,0],\n",
    "         'k', label='Total M0 ($cm^{-3}$)')\n",
    "plt.plot(t_eval, m0_scale * np.sqrt(mom_covs_c0_3r0_3_80micron_hardcase[:,0,0]),\n",
    "         color='b', label='C0-3R0-3, $80\\mu m$')\n",
    "plt.plot(t_eval, m0_scale * np.sqrt(mom_covs_c0_3_6r0_3_80micron_hardcase[:,0,0]),\n",
    "         color='orange', label='C0-3-6R0-3, $80\\mu m$')\n",
    "plt.xlim(0., 3600.)\n",
    "plt.ylim(0., 880.)\n",
    "plt.legend()"
   ]
  },
  {
   "cell_type": "code",
   "execution_count": null,
   "id": "0944e210-ba50-4fc8-8f28-10a9e969264d",
   "metadata": {},
   "outputs": [],
   "source": [
    "fig = plt.figure(figsize=(7, 4))\n",
    "# 1.e3 converts kg/kg to g/kg\n",
    "mass_scale = 1.e3 * const.mass_conc_scale\n",
    "plt.plot(t_eval, mass_scale * moms_c0_3r0_3_80micron_hardcase[:,1],\n",
    "         'k', label='Cloud mass, $80\\mu m$')\n",
    "plt.plot(t_eval, mass_scale * np.sqrt(mom_covs_c0_3r0_3_80micron_hardcase[:,1,1]),\n",
    "         color='b', label='C0-3R0-3, $80\\mu m$')\n",
    "plt.plot(t_eval, mass_scale * np.sqrt(mom_covs_c0_3_6r0_3_80micron_hardcase[:,1,1]),\n",
    "         color='orange', label='C0-3-6R0-3, $80\\mu m$')\n",
    "plt.xlim(0., 3600.)\n",
    "plt.ylim(0., 2.2)\n",
    "plt.xlabel('Time (s)')\n",
    "plt.ylabel('Cloud mass (g/kg)')\n",
    "plt.legend()"
   ]
  },
  {
   "cell_type": "code",
   "execution_count": null,
   "id": "287d711f-2fc2-48e7-9275-126b496e134b",
   "metadata": {},
   "outputs": [],
   "source": [
    "fig = plt.figure(figsize=(7, 4))\n",
    "# 1.e3 to get mm^6/cm^3\n",
    "m6_scale = (1.e3 * const.std_diameter)**6 * m0_scale\n",
    "plt.plot(t_eval, m6_scale * moms_c0_3r0_3_80micron_hardcase[:,2],\n",
    "         'k', label='Total $M_6$')\n",
    "plt.plot(t_eval, m6_scale * np.sqrt(mom_covs_c0_3r0_3_80micron_hardcase[:,2,2]),\n",
    "         color='b', label='C0-3R0-3, $80\\mu m$')\n",
    "plt.plot(t_eval, m6_scale * np.sqrt(mom_covs_c0_3_6r0_3_80micron_hardcase[:,2,2]),\n",
    "         color='orange', label='C0-3-6R0-3, $80\\mu m$')\n",
    "plt.xlim(0., 3600.)\n",
    "plt.ylim(0., 1.1)\n",
    "plt.xlabel('Time (s)')\n",
    "plt.ylabel('$M_6$ ($mm^6cm^{-3}$)')\n",
    "plt.legend()"
   ]
  },
  {
   "cell_type": "markdown",
   "id": "a4dc1517-d1c9-40b2-a412-e249bfecf1e9",
   "metadata": {},
   "source": [
    "# Plots of 1-category uncertainty (ellipsoids)"
   ]
  },
  {
   "cell_type": "code",
   "execution_count": null,
   "id": "0e1eaeca-6c80-43d9-bdb4-1e4527cae23d",
   "metadata": {},
   "outputs": [],
   "source": [
    "wvs_ell = np.zeros((4, grid.num_bins))\n",
    "wvs_ell[0,:] = grid.moment_weight_vector(0)\n",
    "wvs_ell[1,:] = grid.moment_weight_vector(3)\n",
    "wvs_ell[2,:] = grid.moment_weight_vector(6)\n",
    "wvs_ell[3,:] = grid.moment_weight_vector(9)"
   ]
  },
  {
   "cell_type": "code",
   "execution_count": null,
   "id": "9271bfce-8af7-4024-a8f7-f37e22fd7889",
   "metadata": {},
   "outputs": [],
   "source": [
    "moms_ell, mom_covs_ell = \\\n",
    "    exp_u0_3_6_9.get_moments_and_covariances(wvs_ell)\n",
    "# Convert to amount per cm^-3.\n",
    "m0_scale = 1.e-6 * const.rho_air * const.mass_conc_scale / const.std_mass\n",
    "scales = [\n",
    "    m0_scale,\n",
    "    1.e3 * const.mass_conc_scale,\n",
    "    (1.e3 * const.std_diameter)**6 * m0_scale,\n",
    "    (1.e3 * const.std_diameter)**9 * m0_scale,\n",
    "]\n",
    "scale_mat = np.diag(scales)\n",
    "moms_ell = moms_ell @ scale_mat\n",
    "mom_covs_ell = scale_mat @ mom_covs_ell @ scale_mat"
   ]
  },
  {
   "cell_type": "code",
   "execution_count": null,
   "id": "ed44fb48-ce4c-4c6c-b21b-c894408b2f24",
   "metadata": {},
   "outputs": [],
   "source": [
    "# Points to graph ellipse at.\n",
    "pts = (0, 23, 34, 45)"
   ]
  },
  {
   "cell_type": "code",
   "execution_count": null,
   "id": "bc8eaa88-9484-4f3b-8b1c-882ac372ff0f",
   "metadata": {},
   "outputs": [],
   "source": [
    "lengths_06 = []\n",
    "angles_06 = []\n",
    "lengths_09 = []\n",
    "angles_09 = []\n",
    "lengths_69 = []\n",
    "angles_69 = []\n",
    "lengths_069 = []\n",
    "rot_069 = []\n",
    "for pt in pts:\n",
    "    pt_cov = mom_covs_ell[pt,:,:]\n",
    "    eigval, eigvec = la.eigh(pt_cov)\n",
    "    cov_06 = pt_cov[(0,2),:][:,(0,2)]\n",
    "    eigval_06, eigvec_06 = la.eigh(cov_06)\n",
    "    lengths_06.append(np.sqrt(eigval_06))\n",
    "    angles_06.append((180. / np.pi)*np.arctan2(eigvec_06[0,1], eigvec_06[0,0]))\n",
    "    cov_09 = pt_cov[(0,3),:][:,(0,3)]\n",
    "    eigval_09, eigvec_09 = la.eigh(cov_09)\n",
    "    lengths_09.append(np.sqrt(eigval_09))\n",
    "    angles_09.append((180. / np.pi)*np.arctan2(eigvec_09[0,1], eigvec_09[0,0]))\n",
    "    cov_69 = pt_cov[(2,3),:][:,(2,3)]\n",
    "    eigval_69, eigvec_69 = la.eigh(cov_69)\n",
    "    lengths_69.append(np.sqrt(eigval_69))\n",
    "    angles_69.append((180. / np.pi)*np.arctan2(eigvec_69[0,1], eigvec_69[0,0]))\n",
    "    cov_069 = pt_cov[(0,2,3),:][:,(0,2,3)]\n",
    "    eigval_069, eigvec_069 = la.eigh(cov_069)\n",
    "    lengths_069.append(np.sqrt(eigval_069))\n",
    "    rot = np.zeros_like(eigvec_069)\n",
    "    for i in range(3):\n",
    "        rot[:,i] = eigvec_069[:,i] / la.norm(eigvec_069[:,i])\n",
    "    rot_069.append(rot)"
   ]
  },
  {
   "cell_type": "code",
   "execution_count": null,
   "id": "b7cf21a1-a14e-4b43-a3be-e352ec3f7561",
   "metadata": {},
   "outputs": [],
   "source": [
    "rot_069"
   ]
  },
  {
   "cell_type": "code",
   "execution_count": null,
   "id": "3ae45808-0629-4ecb-8019-9303e8a41ea8",
   "metadata": {},
   "outputs": [],
   "source": [
    "fig = plt.figure(figsize=(5, 4))\n",
    "plt.plot(moms_ell[:,0], moms_ell[:,2], 'k')\n",
    "for i, pt in enumerate(pts):\n",
    "    ellipse = matplotlib.patches.Ellipse((moms_ell[pt,0], moms_ell[pt,2]),\n",
    "                                         lengths_06[i][0], lengths_06[i][1],\n",
    "                                         angle=angles_06[i], edgecolor='b',\n",
    "                                         facecolor='lightgrey', lw=2)\n",
    "    plt.gca().add_patch(ellipse)\n",
    "plt.xlabel('$M_0$ ($cm^{-3}$)')\n",
    "plt.ylabel('$M_6$ ($mm^6cm^{-3}$)')"
   ]
  },
  {
   "cell_type": "code",
   "execution_count": null,
   "id": "806753dd-9476-4469-860b-15878bec1081",
   "metadata": {},
   "outputs": [],
   "source": [
    "fig = plt.figure(figsize=(5, 4))\n",
    "plt.plot(moms_ell[:,0], moms_ell[:,3], 'k')\n",
    "for i, pt in enumerate(pts):\n",
    "    ellipse = matplotlib.patches.Ellipse((moms_ell[pt,0], moms_ell[pt,3]),\n",
    "                                         lengths_09[i][0], lengths_09[i][1],\n",
    "                                         angle=angles_09[i], edgecolor='b',\n",
    "                                         facecolor='lightgrey', lw=2)\n",
    "    plt.gca().add_patch(ellipse)\n",
    "plt.xlabel('$M_0$ ($cm^{-3}$)')\n",
    "plt.ylabel('$M_9$ ($mm^9cm^{-3}$)')"
   ]
  },
  {
   "cell_type": "code",
   "execution_count": null,
   "id": "0d36f191-5415-4b9a-a5f7-b991d16a2951",
   "metadata": {},
   "outputs": [],
   "source": [
    "fig = plt.figure(figsize=(5, 4))\n",
    "plt.plot(moms_ell[:,2], moms_ell[:,3], 'k')\n",
    "for i, pt in enumerate(pts):\n",
    "    ellipse = matplotlib.patches.Ellipse((moms_ell[pt,2], moms_ell[pt,3]),\n",
    "                                         lengths_69[i][0], lengths_69[i][1],\n",
    "                                         angle=angles_69[i], edgecolor='b',\n",
    "                                         facecolor='lightgrey', lw=2)\n",
    "    plt.gca().add_patch(ellipse)\n",
    "plt.xlabel('$M_6$ ($mm^6cm^{-3}$)')\n",
    "plt.ylabel('$M_9$ ($mm^9cm^{-3}$)')"
   ]
  },
  {
   "cell_type": "code",
   "execution_count": null,
   "id": "aabda889-381f-429f-a9da-7a741a724f18",
   "metadata": {},
   "outputs": [],
   "source": [
    "ax = plt.figure(figsize=(6,6)).add_subplot(projection='3d')\n",
    "# Plot trajectory in space.\n",
    "ax.plot(moms_ell[:,0], moms_ell[:,2], moms_ell[:,3], 'k')\n",
    "# Locations of shadow planes.\n",
    "x_low = -20.\n",
    "y_low = -0.05\n",
    "z_low = -10.\n",
    "# Plot \"shadow\" curves on the box boundaries.\n",
    "plt.plot(moms_ell[:,0], moms_ell[:,2], z_low, 'k', alpha=0.5)\n",
    "plt.plot(moms_ell[:,0], y_low*np.ones_like(moms_ell[:,2]),\n",
    "         moms_ell[:,3], 'k', alpha=0.5)\n",
    "plt.plot(x_low*np.ones_like(moms_ell[:,0]), moms_ell[:,2],\n",
    "         moms_ell[:,3], 'k', alpha=0.5)\n",
    "# Coordinates of points on a sphere.\n",
    "num_phi = 11\n",
    "num_theta = 21\n",
    "phi = np.linspace(0., 2.*np.pi, num_phi)\n",
    "theta = np.linspace(-np.pi, np.pi, num_theta)\n",
    "x = np.outer(np.cos(phi), np.sin(theta))\n",
    "y = np.outer(np.sin(phi), np.sin(theta))\n",
    "z = np.outer(np.ones((num_phi,)), np.cos(theta))\n",
    "colors = ('b', 'g', 'r', 'grey')\n",
    "for i, pt in enumerate(pts):\n",
    "    # Center of ellipse.\n",
    "    center = moms_ell[pt,(0,2,3)]\n",
    "    # Stretch sphere into ellipse.\n",
    "    pt_coord = np.zeros((3, x.shape[0], x.shape[1]))\n",
    "    pt_coord[0,:,:] = 0.5 * lengths_069[i][0] * x\n",
    "    pt_coord[1,:,:] = 0.5 * lengths_069[i][1] * y\n",
    "    pt_coord[2,:,:] = 0.5 * lengths_069[i][2] * z\n",
    "    # Rotate ellipse to proper orientation and translate.\n",
    "    for j in range(num_phi):\n",
    "        for k in range(num_theta):\n",
    "            pt_coord[:,j,k] = rot_069[i] @ pt_coord[:,j,k] + center\n",
    "    ax.plot_wireframe(pt_coord[0,:,:], pt_coord[1,:,:], pt_coord[2,:,:],\n",
    "                      color='b', alpha=0.2)\n",
    "    # Shadow ellipses\n",
    "    ellipse = matplotlib.patches.Ellipse((moms_ell[pt,0], moms_ell[pt,2]),\n",
    "                                         lengths_06[i][0], lengths_06[i][1],\n",
    "                                         angle=angles_06[i], edgecolor='b',\n",
    "                                         facecolor='lightgrey',\n",
    "                                         lw=2, alpha=0.5)\n",
    "    ax.add_patch(ellipse)\n",
    "    art3d.pathpatch_2d_to_3d(ellipse, z=z_low, zdir=\"z\")\n",
    "    ellipse = matplotlib.patches.Ellipse((moms_ell[pt,0], moms_ell[pt,3]),\n",
    "                                         lengths_09[i][0], lengths_09[i][1],\n",
    "                                         angle=angles_09[i], edgecolor='b',\n",
    "                                         facecolor='lightgrey',\n",
    "                                         lw=2, alpha=0.5)\n",
    "    ax.add_patch(ellipse)\n",
    "    art3d.pathpatch_2d_to_3d(ellipse, z=y_low, zdir=\"y\")\n",
    "    ellipse = matplotlib.patches.Ellipse((moms_ell[pt,2], moms_ell[pt,3]),\n",
    "                                         lengths_69[i][0], lengths_69[i][1],\n",
    "                                         angle=angles_69[i], edgecolor='b',\n",
    "                                         facecolor='lightgrey',\n",
    "                                         lw=2, alpha=0.5)\n",
    "    ax.add_patch(ellipse)\n",
    "    art3d.pathpatch_2d_to_3d(ellipse, z=x_low, zdir=\"x\")\n",
    "plt.xlabel('$M_0$ ($cm^{-3}$)')\n",
    "plt.ylabel('$M_6$ ($mm^6cm^{-3}$)')\n",
    "ax.set_zlabel('$M_9$ ($mm^9cm^{-3}$)')\n",
    "#ax.view_init(elev=0., azim=-90., roll=0)\n",
    "ax.view_init(elev=20., azim=60., roll=0)\n",
    "ax.dist = 12."
   ]
  },
  {
   "cell_type": "code",
   "execution_count": null,
   "id": "ed4eeff1-14e0-44dc-8541-12a77f47f0f4",
   "metadata": {},
   "outputs": [],
   "source": []
  },
  {
   "cell_type": "code",
   "execution_count": null,
   "id": "8fb45fcc-f977-4b3f-8d2e-4604c3379471",
   "metadata": {},
   "outputs": [],
   "source": []
  }
 ],
 "metadata": {
  "kernelspec": {
   "display_name": "Python 3 (ipykernel)",
   "language": "python",
   "name": "python3"
  },
  "language_info": {
   "codemirror_mode": {
    "name": "ipython",
    "version": 3
   },
   "file_extension": ".py",
   "mimetype": "text/x-python",
   "name": "python",
   "nbconvert_exporter": "python",
   "pygments_lexer": "ipython3",
   "version": "3.10.8"
  }
 },
 "nbformat": 4,
 "nbformat_minor": 5
}
